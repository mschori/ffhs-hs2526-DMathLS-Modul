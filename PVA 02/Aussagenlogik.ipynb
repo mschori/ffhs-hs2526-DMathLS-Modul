{
 "cells": [
  {
   "metadata": {},
   "cell_type": "markdown",
   "source": [
    "*Das meiste ist ganz klar. Hier aber noch die tabellarische Ansicht der möglichen Logik-Aussagen.*\n",
    "\n",
    "Symbole:\n",
    "- $\\neg$ : NICHT = Negation = !\n",
    "- $\\wedge$ : UND = Konjunktion = &&\n",
    "- $\\vee$ : ODER = Disjunktion = | |\n",
    "- $\\Rightarrow$ : WENN, DANN = Implikation\n",
    "- $\\iff$ : IST GLEICH = Äquivalenz\n",
    "\n",
    "***Die Reihenfolge stellt gleichzeitig die Priorität dar.***\n",
    "\n",
    "Folgendes ist also bei zwei Aussagenvarianten möglich:\n",
    "\n",
    "| A   | B   | A $\\wedge$ B | A $\\vee$ B | A $\\Rightarrow$ B | A $\\iff$ B |\n",
    "| --- | --- | ------------ | ---------- | ----------------- | ---------- |\n",
    "| 0   | 0   | 0            | 0          | 1                 | 1          |\n",
    "| 0   | 1   | 0            | 1          | 1                 | 0          |\n",
    "| 1   | 0   | 0            | 1          | 0                 | 0          |\n",
    "| 1   | 1   | 1            | 1          | 1                 | 1          |\n",
    "\n",
    "Die Negation ist natürlich einfach das Gegenteil des bestehenden. Also wenn A 1 ist wird die Negation zu 0.\n",
    "\n",
    "# Wahrheitstafel\n",
    "Mit einer Wahrheitstafel können die Zustände klar nachverfolgt werden.\n",
    "\n",
    "| A   | B   | $\\neg$ A | $\\neg$ B | A $\\Rightarrow$ B | B $\\Rightarrow$ A | $\\neg$ B $\\Rightarrow$ $\\neg$ A |\n",
    "| --- | --- | -------- | -------- | ----------------- | ----------------- | ------------------------------- |\n",
    "| 0   | 0   | 1        | 1        | 1                 | 1                 | 1                               |\n",
    "| 0   | 1   | 1        | 0        | 1                 | 0                 | 1                               |\n",
    "| 1   | 0   | 0        | 1        | 0                 | 1                 | 0                               |\n",
    "| 1   | 1   | 0        | 0        | 1                 | 1                 | 1                               |\n",
    "\n",
    "Es ist hier auch klar erkennbar, dass \"A $\\Rightarrow$ B\" equivalent zu \"$\\neg$ B $\\Rightarrow$ $\\neg$ A\" ist."
   ],
   "id": "61fbace834b9741b"
  },
  {
   "metadata": {},
   "cell_type": "markdown",
   "source": [
    "# Wichtig für die Bestimmung von DNF und KNF (Transformation einer Formel in DNF oder KNF)\n",
    "- **Disjunktive Normalform (DNF)**: ODER-Verknüpfung von Konjunktionen (UND-Verknüpfungen)\n",
    "- **Konjunktive Normalform (KNF)**: UND-Verknüpfung von Disjunktionen (ODER-Verknüpfungen)\n",
    "\n",
    "Wenn eine Formel den Wert True (1) annimmt, wird sie in der DNF aufgenommen. \\\n",
    "Wenn eine Formel den Wert False (0) annimmt, wird sie in der KNF aufgenommen\n",
    "\n",
    "## Beispiel\n",
    "\n",
    "Formel: A $\\iff$ (B $\\Rightarrow$ C)\n",
    "\n",
    "| A   | B   | C   | B $\\Rightarrow$ C | A $\\iff$ (B $\\Rightarrow$ C) | DNF/KNF | Abgeleitete Formel                  |\n",
    "| --- | --- | --- | ----------------- | ---------------------------- | ------- |-------------------------------------|\n",
    "| 1   | 1   | 1   | 1                 | 1                            | DNF     | A $\\wedge$ B $\\wedge$ C             |\n",
    "| 1   | 1   | 0   | 0                 | 0                            | KNF     | $\\neg$A $\\vee$ $\\neg$B $\\vee$ C     |\n",
    "| 1   | 0   | 1   | 1                 | 1                            | DNF     | A $\\wedge$ $\\neg$B $\\wedge$ C       |\n",
    "| 1   | 0   | 0   | 1                 | 1                            | DNF     | A $\\wedge$ $\\neg$B $\\wedge$ $\\neg$C |\n",
    "| 0   | 0   | 0   | 1                 | 0                            | KNF     | A $\\vee$ B $\\vee$ C                 |\n",
    "| 0   | 0   | 1   | 1                 | 0                            | KNF     | A $\\vee$ B $\\vee$ $\\neg$C           |\n",
    "| 0   | 1   | 1   | 1                 | 0                            | KNF     | A $\\vee$ $\\neg$B $\\vee$ $\\neg$C     |\n",
    "| 0   | 1   | 0   | 0                 | 1                            | DNF     | $\\neg$A $\\wedge$ B $\\wedge$ $\\neg$C |\n",
    "\n",
    "DNF: (A $\\wedge$ B $\\wedge$ C) $\\vee$ (A $\\wedge$ $\\neg$B $\\wedge$ C) $\\vee$ (A $\\wedge$ $\\neg$B $\\wedge$ $\\neg$C) $\\vee$ ($\\neg$A $\\wedge$ B $\\wedge$ $\\neg$C)\n",
    "\n",
    "KNF: ($\\neg$A $\\vee$ $\\neg$B $\\vee$ C) $\\wedge$ (A $\\vee$ B $\\vee$ C) $\\wedge$ (A $\\vee$ B $\\vee$ $\\neg$C) $\\wedge$ (A $\\vee$ $\\neg$B $\\vee$ $\\neg$C)\n"
   ],
   "id": "fe9e880947c85f20"
  },
  {
   "metadata": {},
   "cell_type": "markdown",
   "source": "",
   "id": "11a0aec83a47bdae"
  }
 ],
 "metadata": {
  "kernelspec": {
   "display_name": "Python 3",
   "language": "python",
   "name": "python3"
  },
  "language_info": {
   "codemirror_mode": {
    "name": "ipython",
    "version": 2
   },
   "file_extension": ".py",
   "mimetype": "text/x-python",
   "name": "python",
   "nbconvert_exporter": "python",
   "pygments_lexer": "ipython2",
   "version": "2.7.6"
  }
 },
 "nbformat": 4,
 "nbformat_minor": 5
}
