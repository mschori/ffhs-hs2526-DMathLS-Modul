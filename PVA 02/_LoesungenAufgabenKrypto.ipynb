{
 "cells": [
  {
   "cell_type": "markdown",
   "id": "c5381400-74e7-4098-84c2-c1955bd37be3",
   "metadata": {},
   "source": [
    "# Primzahltests"
   ]
  },
  {
   "cell_type": "code",
   "execution_count": 1,
   "id": "b209cb46-e984-4ccb-a396-bf95308df261",
   "metadata": {},
   "outputs": [],
   "source": [
    "import pandas as pd"
   ]
  },
  {
   "cell_type": "markdown",
   "id": "dccef829-bcda-4bb8-888c-f6c57ad843cb",
   "metadata": {},
   "source": [
    "## Fermat-Test\n",
    "#### Lösung Aufgabe 1"
   ]
  },
  {
   "cell_type": "code",
   "execution_count": 2,
   "id": "2a5a6f24-0ee1-44a5-9ddf-764f81837d65",
   "metadata": {},
   "outputs": [],
   "source": [
    "def fermat_test(n, basen=range(2,21)):\n",
    "    for a in basen:\n",
    "        potenz = pow(a, n - 1, n)\n",
    "        res = \"Möglicherweise prim\" if potenz == 1 else \"Sicher zusammengesetzt\"\n",
    "        print(f\"{a:3}**{n-1}={potenz:8}: {res}\")"
   ]
  },
  {
   "cell_type": "code",
   "execution_count": 3,
   "id": "e7cae96d-7ede-4d7b-b406-25052fd6adc3",
   "metadata": {},
   "outputs": [
    {
     "name": "stdout",
     "output_type": "stream",
     "text": [
      "  2**29340=       1: Möglicherweise prim\n",
      "  3**29340=       1: Möglicherweise prim\n",
      "  4**29340=       1: Möglicherweise prim\n",
      "  5**29340=       1: Möglicherweise prim\n",
      "  6**29340=       1: Möglicherweise prim\n",
      "  7**29340=       1: Möglicherweise prim\n",
      "  8**29340=       1: Möglicherweise prim\n",
      "  9**29340=       1: Möglicherweise prim\n",
      " 10**29340=       1: Möglicherweise prim\n",
      " 11**29340=       1: Möglicherweise prim\n",
      " 12**29340=       1: Möglicherweise prim\n",
      " 13**29340=   18057: Sicher zusammengesetzt\n",
      " 14**29340=       1: Möglicherweise prim\n",
      " 15**29340=       1: Möglicherweise prim\n",
      " 16**29340=       1: Möglicherweise prim\n",
      " 17**29340=       1: Möglicherweise prim\n",
      " 18**29340=       1: Möglicherweise prim\n",
      " 19**29340=       1: Möglicherweise prim\n",
      " 20**29340=       1: Möglicherweise prim\n"
     ]
    }
   ],
   "source": [
    "fermat_test(29341)"
   ]
  },
  {
   "cell_type": "code",
   "execution_count": null,
   "id": "1ddacc6d-6389-41d9-9a4a-241a7814db06",
   "metadata": {},
   "outputs": [],
   "source": []
  },
  {
   "cell_type": "markdown",
   "id": "e9f13c73-9a56-4ac9-9d7f-95448a7f86ae",
   "metadata": {},
   "source": [
    "## Miller-Rabin-Test\n",
    "#### Lösung Aufgabe 3"
   ]
  },
  {
   "cell_type": "code",
   "execution_count": 4,
   "id": "fe996f99-c718-464d-81f7-fa956251242d",
   "metadata": {},
   "outputs": [],
   "source": [
    "def miller_rabin(n, basen=[2, 3, 5, 7, 11]):\n",
    "    \"\"\"\n",
    "    Primzahltest nach Miller-Rabin.\n",
    "    :param n: Zahl, die getestet werden muss.\n",
    "    :param basen: Die Basiszahlen für die Potenzen im Test.\n",
    "          Default=[2, 3, 5, 7, 11]\n",
    "    :return: Ein Dataframe mit den berechneten Potenzen. \n",
    "             Die letzte Spalte gibt an, \n",
    "             ob eine Basiszahl ein MR-Zeuge für Primzahl ist.\n",
    "             Wenn die Letzte Spalte nur aus True besteht, wahrscheinlich prim;\n",
    "             sonst sicher zusammengesetzt.\n",
    "    \"\"\"\n",
    "    m = n - 1\n",
    "    zweier = 0\n",
    "    while m % 2 == 0:\n",
    "        m //= 2\n",
    "        zweier += 1\n",
    "    resultate = []\n",
    "    daten = []\n",
    "    for a in basen:\n",
    "        row = [pow(a, m, n)]\n",
    "        for i in range(zweier):\n",
    "            row.append(pow(row[-1], 2, n)) \n",
    "        daten.append(row)\n",
    "        resultate.append(test_mr_row(row, n - 1))\n",
    "    # return basen, daten, resultate\n",
    "    # Pandas wird nur verwendet wegen der schönen Formatierung\n",
    "    return als_dataframe(basen, m, daten, resultate)\n",
    "\n",
    "def test_mr_row(row, minus_1):\n",
    "    \"\"\"\n",
    "    Wertet eine Zeile im Miller-Rabintest aus.\n",
    "    :param row: Auszuwertende Zeile.\n",
    "    :param minus_1: Die Zahl n-1 für die auf Primalität zu testende Zahl.\n",
    "    :returns: True, wenn Zeile besagt, dass Basis eine Primzahl sein könnte,\n",
    "              False, wenn es sich sicher um keine Primzahl handelt.\n",
    "    \"\"\"\n",
    "    if row[-1] != 1:\n",
    "        return False\n",
    "    if row[0] == 1:\n",
    "        return True\n",
    "    return row[list(row).index(1) -1] == minus_1 \n",
    "\n",
    "def als_dataframe(basen, m, daten, resultate, \n",
    "                  true=\"Möglicherweise prim\", \n",
    "                  false=\"Sicher zusammengesetzt\"):\n",
    "    \"\"\"\n",
    "    Packt die Argumente in ein DataFrame.\n",
    "    \"\"\"\n",
    "    spalten = [m * 2**i for i in range(len(daten[0]))]\n",
    "    df = pd.DataFrame(daten, index=basen, columns=spalten)\n",
    "    resultate = [true if res else false for res in resultate]\n",
    "    df[\"Res\"] = resultate\n",
    "    return df"
   ]
  },
  {
   "cell_type": "markdown",
   "id": "b1537276-27f4-4438-bf9c-e2ce91434243",
   "metadata": {},
   "source": [
    "#### Lösungen Aufgabe 2"
   ]
  },
  {
   "cell_type": "code",
   "execution_count": 5,
   "id": "a0381004-353c-4dd2-8309-d87f5d950457",
   "metadata": {},
   "outputs": [
    {
     "data": {
      "text/html": [
       "<div>\n",
       "<style scoped>\n",
       "    .dataframe tbody tr th:only-of-type {\n",
       "        vertical-align: middle;\n",
       "    }\n",
       "\n",
       "    .dataframe tbody tr th {\n",
       "        vertical-align: top;\n",
       "    }\n",
       "\n",
       "    .dataframe thead th {\n",
       "        text-align: right;\n",
       "    }\n",
       "</style>\n",
       "<table border=\"1\" class=\"dataframe\">\n",
       "  <thead>\n",
       "    <tr style=\"text-align: right;\">\n",
       "      <th></th>\n",
       "      <th>25</th>\n",
       "      <th>50</th>\n",
       "      <th>100</th>\n",
       "      <th>Res</th>\n",
       "    </tr>\n",
       "  </thead>\n",
       "  <tbody>\n",
       "    <tr>\n",
       "      <th>2</th>\n",
       "      <td>10</td>\n",
       "      <td>100</td>\n",
       "      <td>1</td>\n",
       "      <td>Möglicherweise prim</td>\n",
       "    </tr>\n",
       "    <tr>\n",
       "      <th>3</th>\n",
       "      <td>10</td>\n",
       "      <td>100</td>\n",
       "      <td>1</td>\n",
       "      <td>Möglicherweise prim</td>\n",
       "    </tr>\n",
       "    <tr>\n",
       "      <th>5</th>\n",
       "      <td>1</td>\n",
       "      <td>1</td>\n",
       "      <td>1</td>\n",
       "      <td>Möglicherweise prim</td>\n",
       "    </tr>\n",
       "    <tr>\n",
       "      <th>7</th>\n",
       "      <td>10</td>\n",
       "      <td>100</td>\n",
       "      <td>1</td>\n",
       "      <td>Möglicherweise prim</td>\n",
       "    </tr>\n",
       "    <tr>\n",
       "      <th>11</th>\n",
       "      <td>10</td>\n",
       "      <td>100</td>\n",
       "      <td>1</td>\n",
       "      <td>Möglicherweise prim</td>\n",
       "    </tr>\n",
       "  </tbody>\n",
       "</table>\n",
       "</div>"
      ],
      "text/plain": [
       "    25   50  100                  Res\n",
       "2   10  100    1  Möglicherweise prim\n",
       "3   10  100    1  Möglicherweise prim\n",
       "5    1    1    1  Möglicherweise prim\n",
       "7   10  100    1  Möglicherweise prim\n",
       "11  10  100    1  Möglicherweise prim"
      ]
     },
     "execution_count": 5,
     "metadata": {},
     "output_type": "execute_result"
    }
   ],
   "source": [
    "miller_rabin(101)"
   ]
  },
  {
   "cell_type": "code",
   "execution_count": 6,
   "id": "ab7eb903-3483-4f8c-b191-11ae7b438830",
   "metadata": {},
   "outputs": [
    {
     "data": {
      "text/html": [
       "<div>\n",
       "<style scoped>\n",
       "    .dataframe tbody tr th:only-of-type {\n",
       "        vertical-align: middle;\n",
       "    }\n",
       "\n",
       "    .dataframe tbody tr th {\n",
       "        vertical-align: top;\n",
       "    }\n",
       "\n",
       "    .dataframe thead th {\n",
       "        text-align: right;\n",
       "    }\n",
       "</style>\n",
       "<table border=\"1\" class=\"dataframe\">\n",
       "  <thead>\n",
       "    <tr style=\"text-align: right;\">\n",
       "      <th></th>\n",
       "      <th>1275</th>\n",
       "      <th>2550</th>\n",
       "      <th>5100</th>\n",
       "      <th>10200</th>\n",
       "      <th>Res</th>\n",
       "    </tr>\n",
       "  </thead>\n",
       "  <tbody>\n",
       "    <tr>\n",
       "      <th>2</th>\n",
       "      <td>8272</td>\n",
       "      <td>7877</td>\n",
       "      <td>4647</td>\n",
       "      <td>9293</td>\n",
       "      <td>Sicher zusammengesetzt</td>\n",
       "    </tr>\n",
       "    <tr>\n",
       "      <th>3</th>\n",
       "      <td>1505</td>\n",
       "      <td>403</td>\n",
       "      <td>9394</td>\n",
       "      <td>8586</td>\n",
       "      <td>Sicher zusammengesetzt</td>\n",
       "    </tr>\n",
       "    <tr>\n",
       "      <th>5</th>\n",
       "      <td>5859</td>\n",
       "      <td>1516</td>\n",
       "      <td>3031</td>\n",
       "      <td>6061</td>\n",
       "      <td>Sicher zusammengesetzt</td>\n",
       "    </tr>\n",
       "    <tr>\n",
       "      <th>7</th>\n",
       "      <td>1606</td>\n",
       "      <td>8584</td>\n",
       "      <td>3233</td>\n",
       "      <td>6465</td>\n",
       "      <td>Sicher zusammengesetzt</td>\n",
       "    </tr>\n",
       "    <tr>\n",
       "      <th>11</th>\n",
       "      <td>5444</td>\n",
       "      <td>3231</td>\n",
       "      <td>3738</td>\n",
       "      <td>7475</td>\n",
       "      <td>Sicher zusammengesetzt</td>\n",
       "    </tr>\n",
       "  </tbody>\n",
       "</table>\n",
       "</div>"
      ],
      "text/plain": [
       "    1275  2550  5100  10200                     Res\n",
       "2   8272  7877  4647   9293  Sicher zusammengesetzt\n",
       "3   1505   403  9394   8586  Sicher zusammengesetzt\n",
       "5   5859  1516  3031   6061  Sicher zusammengesetzt\n",
       "7   1606  8584  3233   6465  Sicher zusammengesetzt\n",
       "11  5444  3231  3738   7475  Sicher zusammengesetzt"
      ]
     },
     "execution_count": 6,
     "metadata": {},
     "output_type": "execute_result"
    }
   ],
   "source": [
    "miller_rabin(10201)"
   ]
  },
  {
   "cell_type": "code",
   "execution_count": 7,
   "id": "aff8d5cb-b4ad-49cb-98af-1251c223db27",
   "metadata": {},
   "outputs": [
    {
     "data": {
      "text/html": [
       "<div>\n",
       "<style scoped>\n",
       "    .dataframe tbody tr th:only-of-type {\n",
       "        vertical-align: middle;\n",
       "    }\n",
       "\n",
       "    .dataframe tbody tr th {\n",
       "        vertical-align: top;\n",
       "    }\n",
       "\n",
       "    .dataframe thead th {\n",
       "        text-align: right;\n",
       "    }\n",
       "</style>\n",
       "<table border=\"1\" class=\"dataframe\">\n",
       "  <thead>\n",
       "    <tr style=\"text-align: right;\">\n",
       "      <th></th>\n",
       "      <th>7335</th>\n",
       "      <th>14670</th>\n",
       "      <th>29340</th>\n",
       "      <th>Res</th>\n",
       "    </tr>\n",
       "  </thead>\n",
       "  <tbody>\n",
       "    <tr>\n",
       "      <th>2</th>\n",
       "      <td>26424</td>\n",
       "      <td>29340</td>\n",
       "      <td>1</td>\n",
       "      <td>Möglicherweise prim</td>\n",
       "    </tr>\n",
       "    <tr>\n",
       "      <th>3</th>\n",
       "      <td>22569</td>\n",
       "      <td>1</td>\n",
       "      <td>1</td>\n",
       "      <td>Sicher zusammengesetzt</td>\n",
       "    </tr>\n",
       "    <tr>\n",
       "      <th>5</th>\n",
       "      <td>15127</td>\n",
       "      <td>25011</td>\n",
       "      <td>1</td>\n",
       "      <td>Sicher zusammengesetzt</td>\n",
       "    </tr>\n",
       "    <tr>\n",
       "      <th>7</th>\n",
       "      <td>23496</td>\n",
       "      <td>11101</td>\n",
       "      <td>1</td>\n",
       "      <td>Sicher zusammengesetzt</td>\n",
       "    </tr>\n",
       "    <tr>\n",
       "      <th>11</th>\n",
       "      <td>1331</td>\n",
       "      <td>11101</td>\n",
       "      <td>1</td>\n",
       "      <td>Sicher zusammengesetzt</td>\n",
       "    </tr>\n",
       "  </tbody>\n",
       "</table>\n",
       "</div>"
      ],
      "text/plain": [
       "     7335  14670  29340                     Res\n",
       "2   26424  29340      1     Möglicherweise prim\n",
       "3   22569      1      1  Sicher zusammengesetzt\n",
       "5   15127  25011      1  Sicher zusammengesetzt\n",
       "7   23496  11101      1  Sicher zusammengesetzt\n",
       "11   1331  11101      1  Sicher zusammengesetzt"
      ]
     },
     "execution_count": 7,
     "metadata": {},
     "output_type": "execute_result"
    }
   ],
   "source": [
    "miller_rabin(29341)"
   ]
  },
  {
   "cell_type": "markdown",
   "id": "33c3269d-f4c7-4cf2-a234-d21ebe071abc",
   "metadata": {},
   "source": [
    "Im letzten Beispiel sieht man, dass der Miller-Rabin-Test dem Fermat-Test überlegen ist: Der Fermat-Test würde nur die Spalte mit dem Namen 29340 betrachten, und könnte daraus nicht schließen, dass 29341 keine Primzahl ist."
   ]
  },
  {
   "cell_type": "code",
   "execution_count": 8,
   "id": "b316b238-661b-4a81-8158-adcd24141fda",
   "metadata": {},
   "outputs": [
    {
     "data": {
      "text/html": [
       "<div>\n",
       "<style scoped>\n",
       "    .dataframe tbody tr th:only-of-type {\n",
       "        vertical-align: middle;\n",
       "    }\n",
       "\n",
       "    .dataframe tbody tr th {\n",
       "        vertical-align: top;\n",
       "    }\n",
       "\n",
       "    .dataframe thead th {\n",
       "        text-align: right;\n",
       "    }\n",
       "</style>\n",
       "<table border=\"1\" class=\"dataframe\">\n",
       "  <thead>\n",
       "    <tr style=\"text-align: right;\">\n",
       "      <th></th>\n",
       "      <th>1</th>\n",
       "      <th>2</th>\n",
       "      <th>4</th>\n",
       "      <th>Res</th>\n",
       "    </tr>\n",
       "  </thead>\n",
       "  <tbody>\n",
       "    <tr>\n",
       "      <th>2</th>\n",
       "      <td>2</td>\n",
       "      <td>4</td>\n",
       "      <td>1</td>\n",
       "      <td>Möglicherweise prim</td>\n",
       "    </tr>\n",
       "    <tr>\n",
       "      <th>3</th>\n",
       "      <td>3</td>\n",
       "      <td>4</td>\n",
       "      <td>1</td>\n",
       "      <td>Möglicherweise prim</td>\n",
       "    </tr>\n",
       "    <tr>\n",
       "      <th>5</th>\n",
       "      <td>0</td>\n",
       "      <td>0</td>\n",
       "      <td>0</td>\n",
       "      <td>Sicher zusammengesetzt</td>\n",
       "    </tr>\n",
       "    <tr>\n",
       "      <th>7</th>\n",
       "      <td>2</td>\n",
       "      <td>4</td>\n",
       "      <td>1</td>\n",
       "      <td>Möglicherweise prim</td>\n",
       "    </tr>\n",
       "    <tr>\n",
       "      <th>11</th>\n",
       "      <td>1</td>\n",
       "      <td>1</td>\n",
       "      <td>1</td>\n",
       "      <td>Möglicherweise prim</td>\n",
       "    </tr>\n",
       "  </tbody>\n",
       "</table>\n",
       "</div>"
      ],
      "text/plain": [
       "    1  2  4                     Res\n",
       "2   2  4  1     Möglicherweise prim\n",
       "3   3  4  1     Möglicherweise prim\n",
       "5   0  0  0  Sicher zusammengesetzt\n",
       "7   2  4  1     Möglicherweise prim\n",
       "11  1  1  1     Möglicherweise prim"
      ]
     },
     "execution_count": 8,
     "metadata": {},
     "output_type": "execute_result"
    }
   ],
   "source": [
    "miller_rabin(5)"
   ]
  },
  {
   "cell_type": "markdown",
   "id": "a27b89e3-7e9c-473a-83ae-3f2957f5d469",
   "metadata": {},
   "source": [
    "# RSA\n",
    "#### Aufgabe 7"
   ]
  },
  {
   "cell_type": "code",
   "execution_count": 9,
   "id": "51926e6c-0c14-4864-a9ab-5acb6614d900",
   "metadata": {},
   "outputs": [],
   "source": [
    "def erzeuge_rsa_schluesselpaar(p, q, e = 3):\n",
    "    \"\"\"\n",
    "    Erzeugt ein RSA-Schlüsselpaar aus zwei Primzahlen.\n",
    "    Die Parameter werden nicht verifiziert.\n",
    "    \n",
    "    :param p: Eine (große) Primzahl.\n",
    "    :param q: Eine andere (große) Primzahl.\n",
    "    :param e: Vorschlag für Exponenten im öffentlichen Schlüssel.\n",
    "              Wenn das nicht geht, wird e vergrößert.\n",
    "    :return: Ein Paar, bestehend aus \n",
    "             dem öffentlichem und privatem Schlüsselpaar.\n",
    "    \"\"\"\n",
    "    n = p * q\n",
    "    phi = (p-1) * (q - 1)\n",
    "    while phi % e == 0:\n",
    "        e += 1\n",
    "    d = pow(e, -1, phi)\n",
    "    return (n, e), (n, d)"
   ]
  },
  {
   "cell_type": "code",
   "execution_count": 10,
   "id": "e6174272-964c-4ef5-b761-61492ff65f02",
   "metadata": {},
   "outputs": [],
   "source": [
    "def rsa_anwenden(nachricht, schluessel):\n",
    "    \"\"\"\n",
    "    Verschlüsselt oder entschlüsselt eine Nachricht mit einem RSA-Schlüssel.\n",
    "    \n",
    "    :param nachricht: Zu verschlüsselnde oder zu entschlüsselde Nachricht.\n",
    "    :param schluessel: Ein öffentlicher oder privater RSA-Schlüssel.\n",
    "    \"\"\"\n",
    "    return pow(nachricht, schluessel[1], schluessel[0])"
   ]
  },
  {
   "cell_type": "code",
   "execution_count": null,
   "id": "de5ee372-fb7f-47e6-b5ca-fa51d4f70208",
   "metadata": {},
   "outputs": [],
   "source": []
  },
  {
   "cell_type": "markdown",
   "id": "24083bec-561b-4a11-9537-82784342de6c",
   "metadata": {},
   "source": [
    "### Beispiele zu RSA"
   ]
  },
  {
   "cell_type": "markdown",
   "id": "8a57eccb-4c35-4297-9ce4-f63924e87922",
   "metadata": {},
   "source": [
    "#### Aufgabe 4\n",
    "Sie möchten sich mit dem RSA – Verfahren verschlüsselte Nachrichten senden lassen.\n",
    "Dazu wählen Sie die Primzahlen $p=7$, $q=11$ und die Zahl $e=13$."
   ]
  },
  {
   "cell_type": "code",
   "execution_count": 11,
   "id": "1620a577-119f-4c3c-8739-7d2550d87fe8",
   "metadata": {},
   "outputs": [
    {
     "name": "stdout",
     "output_type": "stream",
     "text": [
      "(77, 13)\n",
      "(77, 37)\n"
     ]
    }
   ],
   "source": [
    "# Erzeugen der Schluessel\n",
    "oeff, priv = erzeuge_rsa_schluesselpaar(7, 11, e=13)\n",
    "print(oeff)\n",
    "print(priv)"
   ]
  },
  {
   "cell_type": "code",
   "execution_count": 12,
   "id": "b8ae7e3e-0e91-4176-87d9-70b8a7704378",
   "metadata": {},
   "outputs": [
    {
     "data": {
      "text/plain": [
       "41"
      ]
     },
     "execution_count": 12,
     "metadata": {},
     "output_type": "execute_result"
    }
   ],
   "source": [
    "# Entschlüsseln der Nachricht 6\n",
    "rsa_anwenden(6, priv)"
   ]
  },
  {
   "cell_type": "code",
   "execution_count": 13,
   "id": "c3a8c59a-3250-4405-ada4-0c52b85d5b94",
   "metadata": {},
   "outputs": [
    {
     "data": {
      "text/plain": [
       "6"
      ]
     },
     "execution_count": 13,
     "metadata": {},
     "output_type": "execute_result"
    }
   ],
   "source": [
    "# Test\n",
    "rsa_anwenden(41, oeff)"
   ]
  },
  {
   "cell_type": "markdown",
   "id": "e8c13948-74be-4ace-9459-2046e2229332",
   "metadata": {},
   "source": [
    "#### Aufgabe 5\n",
    "Wählen Sie jetzt $p=7$, $q=9$ und $e=11$\n",
    "für die RSA – Verschlüsselung.\n",
    "\n",
    "1. Bestimmen Sie wiederum den öffentlichen Schlüssel.\n",
    "2. Verschlüsseln Sie damit die Nachricht $x = 3$.\n",
    "3. Entschlüsseln Sie die Nachricht wieder."
   ]
  },
  {
   "cell_type": "code",
   "execution_count": 14,
   "id": "da837be1-deef-43b2-89e0-7dadabc34257",
   "metadata": {},
   "outputs": [
    {
     "name": "stdout",
     "output_type": "stream",
     "text": [
      "(63, 11)\n",
      "(63, 35)\n"
     ]
    }
   ],
   "source": [
    "# Erzeugen der Schluessel\n",
    "oeff, priv = erzeuge_rsa_schluesselpaar(7, 9, e=11)\n",
    "print(oeff)\n",
    "print(priv)"
   ]
  },
  {
   "cell_type": "code",
   "execution_count": 15,
   "id": "993c87cf-1239-4fe6-a016-34da59c2d9c5",
   "metadata": {},
   "outputs": [
    {
     "data": {
      "text/plain": [
       "54"
      ]
     },
     "execution_count": 15,
     "metadata": {},
     "output_type": "execute_result"
    }
   ],
   "source": [
    "# Verschlüsseln der Nachricht 3\n",
    "rsa_anwenden(3, oeff)"
   ]
  },
  {
   "cell_type": "code",
   "execution_count": 16,
   "id": "993319f0-af00-4dc8-8295-daf33f2ba086",
   "metadata": {},
   "outputs": [
    {
     "data": {
      "text/plain": [
       "45"
      ]
     },
     "execution_count": 16,
     "metadata": {},
     "output_type": "execute_result"
    }
   ],
   "source": [
    "# Entschlüsseln der Nachricht 54\n",
    "rsa_anwenden(54, priv)"
   ]
  },
  {
   "cell_type": "markdown",
   "id": "6024c52e-eb9c-431b-aee5-993f2593c726",
   "metadata": {},
   "source": [
    "Das Resultat ist falsch, die wieder entschlüsselte Nachricht ist verschieden von der ursprünglichen Nachricht!   \n",
    "Der Grund ist, dass 9 keine Primzahl ist!   \n",
    "Vielleicht sollte die Funktion `erzeuge_rsa_schluesselpaar` die Argumente doch validieren!  ;-)"
   ]
  },
  {
   "cell_type": "code",
   "execution_count": null,
   "id": "c72714e8-c36f-4ab5-9b38-e192c3c38522",
   "metadata": {},
   "outputs": [],
   "source": []
  },
  {
   "cell_type": "markdown",
   "id": "0e71a9bd-577c-463d-8f42-76596b4c364f",
   "metadata": {},
   "source": [
    "# Diffie-Hellman\n",
    "#### Aufgabe 8"
   ]
  },
  {
   "cell_type": "code",
   "execution_count": 17,
   "id": "f4d0f33e-3bc4-4ba9-bf2e-5081fb547662",
   "metadata": {},
   "outputs": [],
   "source": [
    "p = 109"
   ]
  },
  {
   "cell_type": "markdown",
   "id": "7a78e12b-0e28-4881-a2d0-7f9628d74730",
   "metadata": {},
   "source": [
    "Es soll eine Basiszahl g bestimmt werden, so dass es $p-1$ viele modulare Potenzen von $g$ gibt."
   ]
  },
  {
   "cell_type": "code",
   "execution_count": 18,
   "id": "640d145f-44c7-4746-b801-a105b2ae63c5",
   "metadata": {},
   "outputs": [],
   "source": [
    "def finde_generator(p):\n",
    "    \"\"\"\n",
    "    Findet ein Generatorelement für Z_p.\n",
    "    :param p: Primzahl\n",
    "    :returns: Das kleineste Generatorelement für Z_p.\n",
    "    \"\"\"\n",
    "    for g in range(2, p):\n",
    "        if len({pow(g, i, p) for i in range(p)}) == p - 1:\n",
    "            return g"
   ]
  },
  {
   "cell_type": "code",
   "execution_count": 19,
   "id": "d2d4de09-050d-44df-8660-b5c5a8f68af1",
   "metadata": {},
   "outputs": [
    {
     "data": {
      "text/plain": [
       "6"
      ]
     },
     "execution_count": 19,
     "metadata": {},
     "output_type": "execute_result"
    }
   ],
   "source": [
    "g = finde_generator(p)\n",
    "g"
   ]
  },
  {
   "cell_type": "markdown",
   "id": "f692fddb-6cd2-4222-b6b3-1a624c42fcfb",
   "metadata": {},
   "source": [
    "Damit haben wir geeignetes $g$ gefunden.   \n",
    "Es gibt effizientere Methoden als unsere Funktion `finde_generator`, ein solches $g$ zu finden, das ist aber nicht Thema dieses Moduls.   \n",
    "Wenn die Anzahl der Potenzen nicht gleich $p-1$ ist, aber trotzdem groß, so ist das auch in Ordnung."
   ]
  },
  {
   "cell_type": "code",
   "execution_count": 20,
   "id": "eac61a61-8760-49aa-8603-ed4fa1f1b23a",
   "metadata": {},
   "outputs": [
    {
     "data": {
      "text/plain": [
       "43"
      ]
     },
     "execution_count": 20,
     "metadata": {},
     "output_type": "execute_result"
    }
   ],
   "source": [
    "# Schlüsselaustausch\n",
    "# Alice wählt Zufallszahl x und sendet $a = g^x \\% p$ an Bob\n",
    "x = 30\n",
    "a = pow(g, x, p)\n",
    "a"
   ]
  },
  {
   "cell_type": "code",
   "execution_count": 21,
   "id": "4cccf9c2-1e8c-4e72-b155-3983e1759f14",
   "metadata": {},
   "outputs": [
    {
     "data": {
      "text/plain": [
       "34"
      ]
     },
     "execution_count": 21,
     "metadata": {},
     "output_type": "execute_result"
    }
   ],
   "source": [
    "# Bob wählt Zufallszahl y und sendet $b = g**y % p$ an Alice\n",
    "y = 42\n",
    "b = pow(g, y, p)\n",
    "b"
   ]
  },
  {
   "cell_type": "code",
   "execution_count": 22,
   "id": "a1d45fbf-5464-4925-884e-4a22933cbd09",
   "metadata": {},
   "outputs": [
    {
     "data": {
      "text/plain": [
       "45"
      ]
     },
     "execution_count": 22,
     "metadata": {},
     "output_type": "execute_result"
    }
   ],
   "source": [
    "# Bob berechnet den Schlüssel a**y % p\n",
    "pow(a, y, p)"
   ]
  },
  {
   "cell_type": "code",
   "execution_count": 23,
   "id": "c17971f6-bba4-498d-90f3-5396daa7825f",
   "metadata": {},
   "outputs": [
    {
     "data": {
      "text/plain": [
       "45"
      ]
     },
     "execution_count": 23,
     "metadata": {},
     "output_type": "execute_result"
    }
   ],
   "source": [
    "# Alice berechnet den Schlüssel b^x % p\n",
    "pow(b, x, p)"
   ]
  },
  {
   "cell_type": "markdown",
   "id": "22fe4a85-ce5d-475b-9714-325ecda1e929",
   "metadata": {},
   "source": [
    "Alice und Bob kennen jetzt einen gemeinsamen Schlüssel.   \n",
    "Wenn Eve mitgehört hat, nützt ihr das nichts, denn sie kennt weder $x$ noch $y$.   "
   ]
  },
  {
   "cell_type": "code",
   "execution_count": null,
   "id": "ebed42fc-863f-4f76-ac71-f5882b02ec07",
   "metadata": {},
   "outputs": [],
   "source": []
  },
  {
   "cell_type": "markdown",
   "id": "57c103e2-008f-4b11-b92e-0d7b412836c6",
   "metadata": {},
   "source": [
    "# ElGamal\n",
    "#### Aufgabe 11"
   ]
  },
  {
   "cell_type": "code",
   "execution_count": 24,
   "id": "ab1ff93b-c7fd-4e03-bf6d-bfc5cb2cbc5f",
   "metadata": {},
   "outputs": [],
   "source": [
    "# secrets ist ein Modul für kryptographisch sichere Zufallszahlen.\n",
    "# Das Modul random ist für Simulationen geeignet,\n",
    "# ist kryptopgraphisch aber nicht sicher.\n",
    "import secrets"
   ]
  },
  {
   "cell_type": "code",
   "execution_count": 25,
   "id": "bdc85021-6482-4f56-b6bb-83abde29e18b",
   "metadata": {},
   "outputs": [],
   "source": [
    "def erzeuge_elgamal_schluesselpaar(p, g, x=None):\n",
    "    \"\"\"\n",
    "    Erzeugt ein Paar, bestehnd aus einem öffentlichen und privatem ElGamal-schlüssel.\n",
    "    :param p: Eine Primzahl\n",
    "    :param g: Ein Generatorelement für Z_p\n",
    "    :param x: Eine Zufallszahl für denprivaten Schlüssel.\n",
    "              Wenn sie nicht angegeben wird, wird sie zufällig erzeugt.\n",
    "    \"\"\"\n",
    "    if x is None:\n",
    "        x = 1 + secrets.randbelow(p - 2)\n",
    "    g_hoch_x = pow(g, x, p)\n",
    "    oeffentlich = (p, g, g_hoch_x)\n",
    "    privat      = (p, g, x)\n",
    "    return oeffentlich, privat"
   ]
  },
  {
   "cell_type": "code",
   "execution_count": 26,
   "id": "67673f6c-299c-45e6-9063-a44527a9fb35",
   "metadata": {},
   "outputs": [],
   "source": [
    "def elgamal_verschluesseln(nachricht, oeffentlicher_schluessel, y=None):\n",
    "    \"\"\"\n",
    "    Verschlüsselt eine Nachricht mit ElGamal.\n",
    "    :param nachricht: zu verschlüsselnde Nachricht.\n",
    "    :param oeffentlicher_schluessel: Ein öffentlicher ElGamal-Schlüssel als Tripel.\n",
    "    :param y: Zufallszahl, die zum verschlüsseln verwendet wird.\n",
    "              Falls diese weggelassen wird, wird sie zufällig bestimmt.\n",
    "    :returns: Ein Chiffrat als Paar\n",
    "    \"\"\"\n",
    "    p, g, g_hoch_x = oeffentlicher_schluessel\n",
    "    if y is None:\n",
    "        y = 1 + secrets.randbelow(p - 2)\n",
    "    g_hoch_y = pow(g, y, p)\n",
    "    c = pow(g_hoch_x, y, p) * nachricht % p\n",
    "    return (g_hoch_y, c)"
   ]
  },
  {
   "cell_type": "code",
   "execution_count": 27,
   "id": "e9ce42f1-f7f4-4a35-a60e-3ea90030afa7",
   "metadata": {},
   "outputs": [],
   "source": [
    "def elgamal_entschluesseln(chiffrat, privater_schluessel):\n",
    "    \"\"\"\n",
    "    Entschlüsselt eine chiffrierte Nachricht mit ElGamal.\n",
    "    :param chiffrat: Verschlüsselte Nachricht als Paar.\n",
    "    :param privater_schluessel: Ein privater ElGamal-Schlüssel als Tripel.\n",
    "    :returns: Die entschlüsselte Nachricht.\n",
    "    \"\"\"\n",
    "    g_hoch_y, c = chiffrat\n",
    "    p, g, x = privater_schluessel\n",
    "    return pow(g_hoch_y, p - 1 - x, p) * c % p"
   ]
  },
  {
   "cell_type": "markdown",
   "id": "685ed733-c003-4fee-92fd-84a26d203c15",
   "metadata": {},
   "source": [
    "#### Aufgabe 9"
   ]
  },
  {
   "cell_type": "code",
   "execution_count": 28,
   "id": "658f38b5-6235-42c7-8354-5a935bfed952",
   "metadata": {},
   "outputs": [],
   "source": [
    "p = 23"
   ]
  },
  {
   "cell_type": "code",
   "execution_count": 29,
   "id": "dd29ed3f-e052-4e4e-89a4-95e813101161",
   "metadata": {},
   "outputs": [
    {
     "data": {
      "text/plain": [
       "5"
      ]
     },
     "execution_count": 29,
     "metadata": {},
     "output_type": "execute_result"
    }
   ],
   "source": [
    "# Suche eines Generators g\n",
    "g = finde_generator(p)\n",
    "g"
   ]
  },
  {
   "cell_type": "code",
   "execution_count": 30,
   "id": "73808492-a88c-403a-a9f1-ac1d412c0f5b",
   "metadata": {},
   "outputs": [
    {
     "name": "stdout",
     "output_type": "stream",
     "text": [
      "(23, 5, 9)\n",
      "(23, 5, 10)\n"
     ]
    }
   ],
   "source": [
    "oeffentlich, privat = erzeuge_elgamal_schluesselpaar(p, g, x=10)\n",
    "print(oeffentlich)\n",
    "print(privat)"
   ]
  },
  {
   "cell_type": "code",
   "execution_count": 31,
   "id": "3567cd29-8de1-412c-8008-b5b17d2512cc",
   "metadata": {},
   "outputs": [
    {
     "data": {
      "text/plain": [
       "(10, 19)"
      ]
     },
     "execution_count": 31,
     "metadata": {},
     "output_type": "execute_result"
    }
   ],
   "source": [
    "nachricht = 17\n",
    "chiffrat = elgamal_verschluesseln(nachricht, oeffentlich)\n",
    "chiffrat"
   ]
  },
  {
   "cell_type": "code",
   "execution_count": 32,
   "id": "0dc35e33-2899-4510-906c-5a12f64da95a",
   "metadata": {},
   "outputs": [
    {
     "data": {
      "text/plain": [
       "17"
      ]
     },
     "execution_count": 32,
     "metadata": {},
     "output_type": "execute_result"
    }
   ],
   "source": [
    "elgamal_entschluesseln(chiffrat, privat)"
   ]
  },
  {
   "cell_type": "code",
   "execution_count": null,
   "id": "a3057ae6-7a47-4b58-b58a-190522379381",
   "metadata": {},
   "outputs": [],
   "source": []
  }
 ],
 "metadata": {
  "kernelspec": {
   "display_name": "Python 3 (ipykernel)",
   "language": "python",
   "name": "python3"
  },
  "language_info": {
   "codemirror_mode": {
    "name": "ipython",
    "version": 3
   },
   "file_extension": ".py",
   "mimetype": "text/x-python",
   "name": "python",
   "nbconvert_exporter": "python",
   "pygments_lexer": "ipython3",
   "version": "3.11.5"
  }
 },
 "nbformat": 4,
 "nbformat_minor": 5
}
