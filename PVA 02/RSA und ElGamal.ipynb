{
 "cells": [
  {
   "metadata": {},
   "cell_type": "markdown",
   "source": [
    "# RSA\n",
    "\n",
    "## Symmetrische Verschlüsselung\n",
    "Die Verschlüsselung und die Entschlüsselung werden mit dem identischen Schlüssel durchgeführt.\n",
    "Beispiel: Caesar-Schiffre --> Der Schlüssel ist beispielsweise 2 --> das bedeutet, dass alle Buchstaben im Alphabet um 2 Stellen verschoben werden.\n",
    "\n",
    "## Asymmetrische Verschlüsselung\n",
    "Es existiert ein private und ein public Key.\n",
    "Beispiel: Wenn Alice eine Nachricht an Bob senden will, verschlüsselt sie ihre Nachricht mit dem public key von Bob und sendet die Nachricht. Jetzt kann nur Bob die Nachricht entschlüsseln, da nur er den private key hat.\n",
    "\n",
    "In der Praxis werden die Verfahren kombiniert. Die eigentliche Übertragung der Nachrichten erfolgt symmetrisch. Für die Übertragung des Schlüssel wird ein Asymmetrisches Verfahren verwendet.\n",
    "\n",
    "## So wird ein Schüsselpaar erzeugt\n",
    "- Wähle zwei Primzahlen p und q aus\n",
    "\t- In der Praxis sind dies Zahlen mit ca. 1024 Bits (ca. 600 Dezimalstellen) und werden mit Primzahltests gesucht\n",
    "- Bilde das Produkt n = pq\n",
    "- Berechne phi von n = $\\phi$(n) = (p-1)(q-1)  |  Also einfach p-1 mal q-1\n",
    "- Ermittle eine Zahl e, die teilerfremd zu $\\phi$(n) ist\n",
    "- Berechne den Kehrwert d von e modulo $\\phi$(n)\n",
    "\t- Das würde man mit dem euklidischen Algorithmus machen --> oder einfach e<sup>-1</sup> mod $\\phi$(n)\n",
    "- Fertig, wir haben e, d und n\n",
    "\t- e (encrypt) und n bilden den public-key\n",
    "\t- d (decrypt) und n bilden den private-key\n",
    "\n",
    "Das ganze wird nur ein Mal gemacht und es können e, d und n immer wieder verwendet werden. Solange d geheim bleibt...\n",
    "\n",
    "## So wird verschlüsselt und entschlüsselt\n",
    "Nachrichten sind positive ganze Zahlen, die kleiner als n sind.\n",
    "Eine Nachricht wird mit dem öffentlichen Schlüssel verschlüsselt.\n",
    "S = N<sup>e</sup> mod n\n",
    "Diese Berechnung würde in der Praxis mit sehr grossen Zahlen durchgeführt werden und muss daher sehr effizient gelöst werden. Ein binäre Exploitation kombiniert mit der modularen Arithmetik ist dabei essenziell.\n",
    "\n",
    "Beispiel:\n",
    "\n",
    "Wir wollen die Nachricht 52134 versenden.\n",
    "\n",
    "N = 52134\n",
    "\n",
    "S = 52134<sup>e</sup> mod n\n",
    "\n",
    "S ist die verschlüsselte zu übermittelnde Nachricht.\n",
    "\n",
    "Das Entschlüsseln funktioniert dann mit dem privaten Schlüssel:\n",
    "\n",
    "N = S<sup>d</sup> mod n\n",
    "\n",
    "### Wieso klappt das? Wieso gilt modulo n immer (N<sup>e</sup>)<sup>d</sup> = N?\n",
    "Kurz gesagt:\n",
    "Wenn N kein vielfaches von p ist, dann kann der kleine Satz von Fermat angewendet werden.\n",
    "--> N<sup>p-1</sup> = 1\n",
    "--> N<sup>ed</sup> = N\n",
    "\n",
    "Wenn N ein vielfaches von p ist, also N = 0 in Z<sub>p</sub> und damit natürlich auch N<sup>ed</sup> = N\n",
    "\n",
    "Wir haben somit ***p | N<sup>ed</sup> - N***  --> p ist ein Teiler der Differenz von N<sup>ed</sup> - N\n",
    "Da p und q teilerfremd sind, folgt ***pq | N<sup>ed</sup> - N*** --> pq ist ein Teiler der Differenz von N<sup>ed</sup> - N\n",
    "\n",
    "### Wie kann man den Code knacken?\n",
    "- Kennt man p und q, so kann man sofort $\\phi$(n) = (p-1)(q-1) berechnen\n",
    "- Da e öffentlich ist, kann man dann auch d ermitteln\n",
    "\t- weil d der Kehrwert von e und phi ist --> d = e modulo $\\phi$(n)\n",
    "- Und so kommt man an den private key\n",
    "\n",
    "Die Sicherheit des Verfahrens beruht also auf zwei \"Erfahrungswerten\":\n",
    "- Ist n gross genug, so ist es schwer, n in Primfaktoren zu zerlegen\n",
    "\t- Es ist kein effizientes Verfahren bekannt, womit man eine grosse Zahl in seine Primfaktoren zerlegen kann\n",
    "- Modulo n ist es schwer, N zu bestimmen, wenn man N<sup>e</sup> und e kennt\n",
    "\t- Auch hier gibt es kein bekanntes effizientes Verfahren\n",
    "\n",
    "Es gibt aber keinen mathematischen Beweis dafür, dass dies ein sicheres Verschlüsselungsverfahren ist. Mit Quantencomputern kann das Verfahren geknackt werden, da es bereits einen Algorithmus gibt, der grosse Zahlen im seine Primfaktoren zerlegen kann.\n",
    "\n",
    "## Weitere Anwendungsmöglichkeit\n",
    "Alice könnte mit ihrem private key etwas verschlüsseln und an Bob senden. Bob kann dies mit dem public key von Alice entschlüsseln und mit der unverschlüsselten Version vergleichen und somit überprüfen, ob die Nachricht tatsächlich von Alice stammt."
   ],
   "id": "1a950d72d90a1368"
  },
  {
   "metadata": {
    "ExecuteTime": {
     "end_time": "2025-09-06T19:11:34.308632Z",
     "start_time": "2025-09-06T19:11:34.306050Z"
    }
   },
   "cell_type": "code",
   "source": [
    "# Beispiel RSA Schlüsselpaar erzeugen\n",
    "\n",
    "p = 31\n",
    "q = 47\n",
    "n = p * q\n",
    "phi = (p - 1) * (q - 1)\n",
    "e = 7  # e muss teilerfremd zu phi sein\n",
    "# das kleinste e kann einfach ermittelt werden --> phi / 2 rechnen, dann /3, etc. Bis das erste Mal eine Kommazahl rauskommt, dies ist dann eine teilerfremde Zahl\n",
    "d = pow(e, -1, phi)  # d ist der Kehrwert von e\n",
    "print(f'p: {p}, q: {q}, n: {n}, phi: {phi}, e: {e}, d: {d}')\n",
    "print(f'Public Key: (e: {e}, n: {n})')\n",
    "print(f'Private Key: (d: {d}, n: {n})')"
   ],
   "id": "e220aa9182d77214",
   "outputs": [
    {
     "name": "stdout",
     "output_type": "stream",
     "text": [
      "p: 31, q: 47, n: 1457, phi: 1380, e: 7, d: 1183\n",
      "Public Key: (e: 7, n: 1457)\n",
      "Private Key: (d: 1183, n: 1457)\n"
     ]
    }
   ],
   "execution_count": 1
  },
  {
   "metadata": {
    "ExecuteTime": {
     "end_time": "2025-09-06T19:12:00.320415Z",
     "start_time": "2025-09-06T19:12:00.316754Z"
    }
   },
   "cell_type": "code",
   "source": [
    "# Beispiel RSA Verschlüsselung und Entschlüsselung\n",
    "\n",
    "N = 20\n",
    "S = pow(N, e, n)  # Verschlüsselung\n",
    "\n",
    "print(f'Original Nachricht: {N}')\n",
    "print(f'Verschlüsselte Nachricht: {S}')\n",
    "\n",
    "# Und hier entschlüsseln wir eine Nachricht\n",
    "S = 10\n",
    "N = pow(S, d, n)  # Entschlüsselung\n",
    "\n",
    "print(f'Verschlüsselte Nachricht: {S}')\n",
    "print(f'Original Nachricht: {N}')\n"
   ],
   "id": "c1fb0c8d482481c4",
   "outputs": [
    {
     "name": "stdout",
     "output_type": "stream",
     "text": [
      "Original Nachricht: 20\n",
      "Verschlüsselte Nachricht: 731\n",
      "Verschlüsselte Nachricht: 10\n",
      "Original Nachricht: 1342\n"
     ]
    }
   ],
   "execution_count": 2
  },
  {
   "metadata": {},
   "cell_type": "markdown",
   "source": [
    "# Das ElGamal-Verfahren\n",
    "Hier wird die Idee von Diffi-Hellman zur Verschlüsselung von Nachrichten verwendet.\n",
    "\n",
    "1. A wählt eine Primzahl p und eine Primitivwurzel g modulo p\n",
    "\t1. 2 $\\le$  g $\\le$ p - 2. Es ist also g<sup>p-1</sup> = 1 (p)\n",
    "2. Dann wählt A zufällig x $\\in$ {1, 2, ..., p-2} und berechnet X = g<sup>x</sup> (p)\n",
    "\t1. Das Tripel (p, g, X) bildet A's öffentlicher Schlüssel und x ist ihr geheimer Schlüssel\n",
    "3. Damit B eine Nachricht verschlüsselt an A senden kann, nimmt sie den öffentlichen Schüssel von A, wählt zufällig y $\\in$ {1,2,..., p-2} und berechnet Y = g<sup>y</sup> (p)\n",
    "4. B verschlüsselt den Klartext m $\\in$ {0, 1, ..., p-1} zum Ciphertext c = X<sup>y</sup> * m (p) und sendet das Paar (Y, c) an A\n",
    "5. A berechnet Y<sup>d</sup> * c (p) mit d = p -1 - x und erhält damit den Klartext m\n",
    "\n",
    "Beispiel:\n",
    "1. A wählt p = 7 und g = 3\n",
    "2. A wählt x = 2 und berechnet X = 3<sup>2</sup> (p) = 2\n",
    "\t1. Der öffentliche Schlüssel von A ist das Tripel (7, 3, 2)\n",
    "3. B wählt y = 4 und berechnet Y = 3<sup>4</sup> (p) = 4\n",
    "4. B verschlüsselt den Klartext m = 6 zum Ciphertext c = 2<sup>4</sup> * m (p) = 16 * 6 (p) = 96 (p) = 5 und sendet das Paar (4, 5) an A\n",
    "5. A berechnet d = 7 - 1 - 2 = 4 und\n",
    "   4<sup>4</sup> * 5 (p) = 256 * 5 (p) = 1280 (p) = 6\n",
    "6. Der Klartext ist also die 6!"
   ],
   "id": "7249f100cff7f299"
  },
  {
   "metadata": {
    "ExecuteTime": {
     "end_time": "2025-09-06T19:22:06.254867Z",
     "start_time": "2025-09-06T19:22:06.252039Z"
    }
   },
   "cell_type": "code",
   "source": [
    "#print Beispiel ElGamal privater Schlüssel vorhanden und jetzt öffentlichen bestimmen\n",
    "p = 73\n",
    "g = 7\n",
    "x = 13\n",
    "\n",
    "X = pow(g, x, p)\n",
    "\n",
    "print(f'Public Key: (p: {p}, g: {g}, X: {X})')\n",
    "print(f'Private Key: (x: {x})')"
   ],
   "id": "d75f1432d39500c0",
   "outputs": [
    {
     "name": "stdout",
     "output_type": "stream",
     "text": [
      "Public Key: (p: 73, g: 7, X: 66)\n",
      "Private Key: (x: 13)\n"
     ]
    }
   ],
   "execution_count": 3
  },
  {
   "metadata": {
    "ExecuteTime": {
     "end_time": "2025-09-06T19:22:22.464904Z",
     "start_time": "2025-09-06T19:22:22.462514Z"
    }
   },
   "cell_type": "code",
   "source": [
    "# Beispiel ElGamal Nachricht mit public key verschlüsseln\n",
    "m = 4\n",
    "y = 9\n",
    "\n",
    "Y = pow(g, y, p)\n",
    "c = (X ** y) * m % p\n",
    "\n",
    "print(f'Ciphertext: (Y: {Y}, c: {c})')"
   ],
   "id": "17874d3fc4c726c5",
   "outputs": [
    {
     "name": "stdout",
     "output_type": "stream",
     "text": [
      "Ciphertext: (Y: 10, c: 33)\n"
     ]
    }
   ],
   "execution_count": 4
  },
  {
   "metadata": {
    "ExecuteTime": {
     "end_time": "2025-09-06T19:22:29.867645Z",
     "start_time": "2025-09-06T19:22:29.865229Z"
    }
   },
   "cell_type": "code",
   "source": [
    "# Beispiel ElGamal Nachricht mit private key entschlüsseln\n",
    "Y = 56\n",
    "c = 57\n",
    "print(f'Ciphertext: (Y: {Y}, c: {c})')\n",
    "\n",
    "d = p - 1 - x\n",
    "m = (Y ** d) * c % p  # Auch möglich ist: (pow(Y, d, p) * c) % p\n",
    "\n",
    "print(f'Klartext: {m}')"
   ],
   "id": "976094278c2c3313",
   "outputs": [
    {
     "name": "stdout",
     "output_type": "stream",
     "text": [
      "Ciphertext: (Y: 56, c: 57)\n",
      "Klartext: 42\n"
     ]
    }
   ],
   "execution_count": 5
  }
 ],
 "metadata": {
  "kernelspec": {
   "display_name": "Python 3",
   "language": "python",
   "name": "python3"
  },
  "language_info": {
   "codemirror_mode": {
    "name": "ipython",
    "version": 2
   },
   "file_extension": ".py",
   "mimetype": "text/x-python",
   "name": "python",
   "nbconvert_exporter": "python",
   "pygments_lexer": "ipython2",
   "version": "2.7.6"
  }
 },
 "nbformat": 4,
 "nbformat_minor": 5
}
