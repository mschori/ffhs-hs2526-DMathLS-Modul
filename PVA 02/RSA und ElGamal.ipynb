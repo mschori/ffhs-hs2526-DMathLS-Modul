{
 "cells": [
  {
   "metadata": {},
   "cell_type": "markdown",
   "source": [
    "# RSA\n",
    "\n",
    "## Symmetrische Verschlüsselung\n",
    "Die Verschlüsselung und die Entschlüsselung werden mit dem identischen Schlüssel durchgeführt.\n",
    "Beispiel: Caesar-Schiffre --> Der Schlüssel ist beispielsweise 2 --> das bedeutet, dass alle Buchstaben im Alphabet um 2 Stellen verschoben werden.\n",
    "\n",
    "## Asymmetrische Verschlüsselung\n",
    "Es existiert ein private und ein public Key.\n",
    "Beispiel: Wenn Alice eine Nachricht an Bob senden will, verschlüsselt sie ihre Nachricht mit dem public key von Bob und sendet die Nachricht. Jetzt kann nur Bob die Nachricht entschlüsseln, da nur er den private key hat.\n",
    "\n",
    "In der Praxis werden die Verfahren kombiniert. Die eigentliche Übertragung der Nachrichten erfolgt symmetrisch. Für die Übertragung des Schlüssel wird ein Asymmetrisches Verfahren verwendet. Also wird für jede Sitzung ein Sitzungsschlüssel asymmetrisch übertragen, der dann für die symmetrische Verschlüsselung verwendet wird.\n",
    "\n",
    "## RSA Infos\n",
    "RSA ist ein asymmetrisches Verschlüsselungsverfahren, das auf der Schwierigkeit beruht, grosse Primzahlen in ihre Faktoren zu zerlegen. Es wurde 1977 von Riverst, Shamir und Adleman am MIT entwickelt.\n",
    "\n",
    "## So wird ein Schüsselpaar erzeugt\n",
    "- Wähle zwei Primzahlen p und q aus\n",
    "\t- In der Praxis sind dies Zahlen mit ca. 1024 Bits (ca. 600 Dezimalstellen) und werden mit Primzahltests gesucht\n",
    "- Bilde das Produkt n = pq\n",
    "- Berechne phi von n = $\\phi$(n) = (p-1)(q-1)  |  Also einfach p-1 mal q-1\n",
    "- Ermittle eine Zahl e, die teilerfremd zu $\\phi$(n) ist\n",
    "- Berechne den Kehrwert d von e modulo $\\phi$(n)\n",
    "\t- Das würde man mit dem euklidischen Algorithmus machen --> oder einfach e<sup>-1</sup> mod $\\phi$(n)\n",
    "- Fertig, wir haben e, d und n\n",
    "\t- e (encrypt) und n bilden den public-key\n",
    "\t- d (decrypt) und n bilden den private-key\n",
    "\n",
    "Das ganze wird nur ein Mal gemacht und es können e, d und n immer wieder verwendet werden. Solange d geheim bleibt...\n",
    "\n",
    "## So wird verschlüsselt und entschlüsselt\n",
    "Nachrichten sind positive ganze Zahlen, die kleiner als n sind.\n",
    "Eine Nachricht wird mit dem öffentlichen Schlüssel verschlüsselt.\n",
    "S = N<sup>e</sup> mod n\n",
    "Diese Berechnung würde in der Praxis mit sehr grossen Zahlen durchgeführt werden und muss daher sehr effizient gelöst werden. Ein binäre Exploitation kombiniert mit der modularen Arithmetik ist dabei essenziell.\n",
    "\n",
    "Beispiel:\n",
    "\n",
    "Wir wollen die Nachricht 52134 versenden.\n",
    "\n",
    "N = 52134\n",
    "\n",
    "S = 52134<sup>e</sup> mod n\n",
    "\n",
    "S ist die verschlüsselte zu übermittelnde Nachricht.\n",
    "\n",
    "Das Entschlüsseln funktioniert dann mit dem privaten Schlüssel:\n",
    "\n",
    "N = S<sup>d</sup> mod n\n",
    "\n",
    "### Wieso klappt das? Wieso gilt modulo n immer (N<sup>e</sup>)<sup>d</sup> = N?\n",
    "Kurz gesagt:\n",
    "Wenn N kein vielfaches von p ist, dann kann der kleine Satz von Fermat angewendet werden.\n",
    "--> N<sup>p-1</sup> = 1\n",
    "--> N<sup>ed</sup> = N\n",
    "\n",
    "Wenn N ein vielfaches von p ist, also N = 0 in Z<sub>p</sub> und damit natürlich auch N<sup>ed</sup> = N\n",
    "\n",
    "Wir haben somit ***p | N<sup>ed</sup> - N***  --> p ist ein Teiler der Differenz von N<sup>ed</sup> - N\n",
    "Da p und q teilerfremd sind, folgt ***pq | N<sup>ed</sup> - N*** --> pq ist ein Teiler der Differenz von N<sup>ed</sup> - N\n",
    "\n",
    "### Wie kann man den Code knacken?\n",
    "- Kennt man p und q, so kann man sofort $\\phi$(n) = (p-1)(q-1) berechnen\n",
    "- Da e öffentlich ist, kann man dann auch d ermitteln\n",
    "\t- weil d der Kehrwert von e und phi ist --> d = e modulo $\\phi$(n)\n",
    "- Und so kommt man an den private key\n",
    "\n",
    "Die Sicherheit des Verfahrens beruht also auf zwei \"Erfahrungswerten\":\n",
    "- Ist n gross genug, so ist es schwer, n in Primfaktoren zu zerlegen\n",
    "\t- Es ist kein effizientes Verfahren bekannt, womit man eine grosse Zahl in seine Primfaktoren zerlegen kann\n",
    "- Modulo n ist es schwer, N zu bestimmen, wenn man N<sup>e</sup> und e kennt\n",
    "\t- Auch hier gibt es kein bekanntes effizientes Verfahren\n",
    "\n",
    "Es gibt aber keinen mathematischen Beweis dafür, dass dies ein sicheres Verschlüsselungsverfahren ist. Mit Quantencomputern kann das Verfahren geknackt werden, da es bereits einen Algorithmus gibt, der grosse Zahlen im seine Primfaktoren zerlegen kann.\n",
    "\n",
    "## Weitere Anwendungsmöglichkeit\n",
    "Alice könnte mit ihrem private key etwas verschlüsseln und an Bob senden. Bob kann dies mit dem public key von Alice entschlüsseln und mit der unverschlüsselten Version vergleichen und somit überprüfen, ob die Nachricht tatsächlich von Alice stammt."
   ],
   "id": "1a950d72d90a1368"
  },
  {
   "metadata": {
    "ExecuteTime": {
     "end_time": "2025-09-08T19:08:25.618647Z",
     "start_time": "2025-09-08T19:08:25.615076Z"
    }
   },
   "cell_type": "code",
   "source": [
    "# Beispiel RSA Schlüsselpaar erzeugen\n",
    "\n",
    "p = 101\n",
    "q = 127\n",
    "n = p * q\n",
    "phi = (p - 1) * (q - 1)\n",
    "e = 11  # e muss teilerfremd zu phi sein\n",
    "# das kleinste e kann einfach ermittelt werden --> phi / 2 rechnen, dann /3, etc. Bis das erste Mal eine Kommazahl rauskommt, dies ist dann eine teilerfremde Zahl\n",
    "d = pow(e, -1, phi)  # d ist der Kehrwert von e\n",
    "print(f'p: {p}, q: {q}, n: {n}, phi: {phi}, e: {e}, d: {d}')\n",
    "print(f'Public Key: (e: {e}, n: {n})')\n",
    "print(f'Private Key: (d: {d}, n: {n})')"
   ],
   "id": "e220aa9182d77214",
   "outputs": [
    {
     "name": "stdout",
     "output_type": "stream",
     "text": [
      "p: 101, q: 127, n: 12827, phi: 12600, e: 11, d: 2291\n",
      "Public Key: (e: 11, n: 12827)\n",
      "Private Key: (d: 2291, n: 12827)\n"
     ]
    }
   ],
   "execution_count": 25
  },
  {
   "metadata": {
    "ExecuteTime": {
     "end_time": "2025-09-08T19:09:12.640285Z",
     "start_time": "2025-09-08T19:09:12.638007Z"
    }
   },
   "cell_type": "code",
   "source": [
    "# Beispiel RSA Verschlüsselung und Entschlüsselung\n",
    "\n",
    "N = 57\n",
    "S = pow(N, e, n)  # Verschlüsselung\n",
    "\n",
    "print(f'Original Nachricht: {N}')\n",
    "print(f'Verschlüsselte Nachricht: {S}')\n",
    "\n",
    "# Und hier entschlüsseln wir eine Nachricht\n",
    "S = 69\n",
    "N = pow(S, d, n)  # Entschlüsselung\n",
    "\n",
    "print(f'Verschlüsselte Nachricht: {S}')\n",
    "print(f'Original Nachricht: {N}')\n"
   ],
   "id": "c1fb0c8d482481c4",
   "outputs": [
    {
     "name": "stdout",
     "output_type": "stream",
     "text": [
      "Original Nachricht: 57\n",
      "Verschlüsselte Nachricht: 63\n",
      "Verschlüsselte Nachricht: 69\n",
      "Original Nachricht: 8920\n"
     ]
    }
   ],
   "execution_count": 26
  },
  {
   "metadata": {},
   "cell_type": "markdown",
   "source": [
    "# Das ElGamal-Verfahren\n",
    "Hier wird die Idee von Diffi-Hellman zur Verschlüsselung von Nachrichten verwendet.\n",
    "\n",
    "1. A wählt eine Primzahl p und eine Primitivwurzel g modulo p\n",
    "\t1. 2 $\\le$  g $\\le$ p - 2. Es ist also g<sup>p-1</sup> = 1 (p)\n",
    "2. Dann wählt A zufällig x $\\in$ {1, 2, ..., p-2} und berechnet X = g<sup>x</sup> (p)\n",
    "\t1. Das Tripel (p, g, X) bildet A's öffentlicher Schlüssel und x ist ihr geheimer Schlüssel\n",
    "3. Damit B eine Nachricht verschlüsselt an A senden kann, nimmt sie den öffentlichen Schüssel von A, wählt zufällig y $\\in$ {1,2,..., p-2} und berechnet Y = g<sup>y</sup> (p)\n",
    "4. B verschlüsselt den Klartext m $\\in$ {0, 1, ..., p-1} zum Ciphertext c = X<sup>y</sup> * m (p) und sendet das Paar (Y, c) an A\n",
    "5. A berechnet Y<sup>d</sup> * c (p) mit d = p -1 - x und erhält damit den Klartext m\n",
    "\n",
    "Beispiel:\n",
    "1. A wählt p = 7 und g = 3\n",
    "2. A wählt x = 2 und berechnet X = 3<sup>2</sup> (p) = 2\n",
    "\t1. Der öffentliche Schlüssel von A ist das Tripel (7, 3, 2)\n",
    "3. B wählt y = 4 und berechnet Y = 3<sup>4</sup> (p) = 4\n",
    "4. B verschlüsselt den Klartext m = 6 zum Ciphertext c = 2<sup>4</sup> * m (p) = 16 * 6 (p) = 96 (p) = 5 und sendet das Paar (4, 5) an A\n",
    "5. A berechnet d = 7 - 1 - 2 = 4 und\n",
    "   4<sup>4</sup> * 5 (p) = 256 * 5 (p) = 1280 (p) = 6\n",
    "6. Der Klartext ist also die 6!"
   ],
   "id": "7249f100cff7f299"
  },
  {
   "metadata": {
    "ExecuteTime": {
     "end_time": "2025-09-08T16:42:08.657545Z",
     "start_time": "2025-09-08T16:42:08.655147Z"
    }
   },
   "cell_type": "code",
   "source": [
    "def find_lowest_generator(prim: int) -> int:\n",
    "    \"\"\"\n",
    "    Find the lowest generator for Z_p.\n",
    "    :param prim: Prime.\n",
    "    :returns: The lowest generator for Z_p.\n",
    "    \"\"\"\n",
    "    for generator in range(2, prim):\n",
    "        if len({pow(generator, i, prim) for i in range(prim)}) == prim - 1:\n",
    "            return generator\n",
    "    return 0"
   ],
   "id": "ce6016b0cdbaf86d",
   "outputs": [],
   "execution_count": 11
  },
  {
   "metadata": {
    "ExecuteTime": {
     "end_time": "2025-09-08T19:10:31.370155Z",
     "start_time": "2025-09-08T19:10:31.367669Z"
    }
   },
   "cell_type": "code",
   "source": [
    "#print Beispiel ElGamal privater Schlüssel vorhanden und jetzt öffentlichen bestimmen\n",
    "p = 23\n",
    "g = find_lowest_generator(p)\n",
    "x = 10\n",
    "\n",
    "X = pow(g, x, p)\n",
    "\n",
    "print(f'Public Key: (p: {p}, g: {g}, X: {X})')\n",
    "print(f'Private Key: (p: {p}, g: {g}, x: {x})')"
   ],
   "id": "d75f1432d39500c0",
   "outputs": [
    {
     "name": "stdout",
     "output_type": "stream",
     "text": [
      "Public Key: (p: 127, g: 3, X: 77)\n",
      "Private Key: (p: 127, g: 3, x: 10)\n"
     ]
    }
   ],
   "execution_count": 27
  },
  {
   "metadata": {
    "ExecuteTime": {
     "end_time": "2025-09-08T19:10:34.441920Z",
     "start_time": "2025-09-08T19:10:34.439108Z"
    }
   },
   "cell_type": "code",
   "source": [
    "# Beispiel ElGamal Nachricht mit public key verschlüsseln\n",
    "m = 17\n",
    "y = 15\n",
    "\n",
    "Y = pow(g, y, p)\n",
    "c = (X ** y) * m % p\n",
    "\n",
    "print(f'Ciphertext: (Y: {Y}, c: {c})')"
   ],
   "id": "17874d3fc4c726c5",
   "outputs": [
    {
     "name": "stdout",
     "output_type": "stream",
     "text": [
      "Ciphertext: (Y: 116, c: 115)\n"
     ]
    }
   ],
   "execution_count": 29
  },
  {
   "metadata": {
    "ExecuteTime": {
     "end_time": "2025-09-08T16:43:36.390815Z",
     "start_time": "2025-09-08T16:43:36.388376Z"
    }
   },
   "cell_type": "code",
   "source": [
    "# Beispiel ElGamal Nachricht mit private key entschlüsseln\n",
    "Y = 19\n",
    "c = 10\n",
    "print(f'Ciphertext: (Y: {Y}, c: {c})')\n",
    "\n",
    "d = p - 1 - x\n",
    "m = (Y ** d) * c % p  # Auch möglich ist: (pow(Y, d, p) * c) % p\n",
    "\n",
    "print(f'Klartext: {m}')"
   ],
   "id": "976094278c2c3313",
   "outputs": [
    {
     "name": "stdout",
     "output_type": "stream",
     "text": [
      "Ciphertext: (Y: 19, c: 10)\n",
      "Klartext: 17\n"
     ]
    }
   ],
   "execution_count": 15
  },
  {
   "metadata": {},
   "cell_type": "markdown",
   "source": [
    "# Unterschied RSA und ElGamal\n",
    "- Bei RSA ist das Chiffrat gleich gross wie der Klartext, bei ElGamal ist das Chiffrat doppelt so gross wie der Klartext\n",
    "- Falls ein schneller Algorithmus für die Primfaktorzerlegung gefunden würde, wäre RSA gebrochen\n",
    "- ElGamal ist sicher, solange das diskrete Logarithmusproblem schwer zu lösen ist\n",
    "- ElGamal ist probabilistisch, d.h. die Verschlüsselung derselben Nachricht liefert jedes Mal ein anderes Chiffrat\n",
    "- ElGamal ist etwas langsamer als RSA\n",
    "- ElGamal wird in der Praxis häufiger verwendet als RSA\n",
    "- Beide Varianten können auch für digitale Signaturen verwendet werden\n",
    "- Quantencomputern könnten sowohl das Faktorisierungsproblem als auch das diskrete Logarithmusproblem effizient lösen, was beide Verfahren unsicher machen würde --> Bis heute können noch keine ausreichend grosse Quantencomputer dazu gebaut werden\n",
    "\n",
    "## Vergleich der Schlüssellängen gemäss NIST\n",
    "| Symmetrisch (in Bit) | RSA (in Bit) | ElGamal (in Bit) |\n",
    "|----------------------| ------------ |------------------|\n",
    "| 80                   | 1024         | 160              |\n",
    "| 112                  | 2048         | 224              |\n",
    "| 128                  | 3072         | 256              |\n",
    "| 192                  | 7680         | 384              |\n",
    "| 256                  | 15360        | 521              |\n",
    "\n"
   ],
   "id": "f672cf319748d83c"
  }
 ],
 "metadata": {
  "kernelspec": {
   "display_name": "Python 3",
   "language": "python",
   "name": "python3"
  },
  "language_info": {
   "codemirror_mode": {
    "name": "ipython",
    "version": 2
   },
   "file_extension": ".py",
   "mimetype": "text/x-python",
   "name": "python",
   "nbconvert_exporter": "python",
   "pygments_lexer": "ipython2",
   "version": "2.7.6"
  }
 },
 "nbformat": 4,
 "nbformat_minor": 5
}
