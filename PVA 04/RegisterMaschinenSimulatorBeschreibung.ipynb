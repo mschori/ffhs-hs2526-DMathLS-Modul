{
 "cells": [
  {
   "cell_type": "markdown",
   "id": "5abff58e-2478-489f-ba9e-e82d94123b6c",
   "metadata": {},
   "source": [
    "# Interpreter für Registermaschinen\n",
    "Dieser Interpreter führt Registermaschinen-Programme aus.\n",
    "\n",
    "Version 2.3\n",
    "\n",
    "## Syntax für Registermaschinen-Programme\n",
    "Es gibt folgende Befehle für Maschinenprogramme:\n",
    "\n",
    "* `PUSH    ` _reg\\_nr_ _symbol_ \n",
    "* `POP     ` _reg\\_nr_ [_:marke\\_leer_] {_char:marke_} [_else\\_marke_]\n",
    "* `SWITCH  ` _reg\\_nr_ [_:marke\\_leer_] {_char:marke_} [_else\\_marke_]\n",
    "* `GOTO    ` _marke_\n",
    "* `STOP    `\n",
    "* `SUB     ` _Name\\_eines\\_Sub-Programmes_ {_parameter\\_name_}] \n",
    "* `CALL    ` _Name\\_eines\\_Sub-Programmes_  {_parameter\\_wert_}] \n",
    "\n",
    "Parameternamen beginnen mit einem '$' und besitzen eine Länge \\>= 2.  \n",
    "In dieser Version werden Parameter nur für Register-Nummern unterstützt,\n",
    "\n",
    "Jedem Befehl kann eine Marke vorangestellt werden: _marke:_        \n",
    "Vor dem Doppelpunkt der Zeilenmarken darf kein Leerraum stehen, nach dem Doppelpunkt muss ein Lehrraum stehen. \n",
    "\n",
    "Die Registermaschine kann um weitere Befehle erweitert werden.\n",
    "(TODO: Doku dazu)\n",
    "\n",
    "### Bemerkungen zur Syntax\n",
    "1. Alle Befehle sind vom gleichen Schema:     \n",
    "`Befehlsname` _Parameter1 Parameter2 etc._\n",
    "2. Zum `SWITCH`-Befehl. Beispiel:       \n",
    "     `SWITCH reg_nr :marke_empty  a:marke_a   b:marke_b  ...  else_marke`    \n",
    "     Die Marken sind optional.     \n",
    "     Es wird ein Sprung ausgeführt, abhängig davon, was das oberste Symbol im Register `reg_nr` ist:\n",
    "    + ist das Register leer, so wird zu `marke_empty` gesprungen.\n",
    "    + ist das oberste Symbol des Registers ein `a` oder ein `b`, so wird nach `marke_a` oder `marke_b` gesprungen.\n",
    "    + Anderenfalls wird zu `else_marke` gesprungen. Fehlt die `else_marke`, so wird einfach zur nächsten Anweisung gegangen.\n",
    "3. Der `POP`-Befehl macht im Wesentlichen das gleiche wie der `SWITCH`-Befehl, entfernt aber das oberste Symbol aus dem Register.    \n",
    "   Bei einem `POP`-Befehl ohne Sprung-Marken wird einfach das oberste Symbol aus dem Register entfernt und zum nächsten Befehl übergegangen.\n",
    "  \n",
    "## API\n",
    "+ Eine Registermaschine wird erstellt mit      \n",
    "`rm = Registermaschine(\"\"\"` _Programm-Quellcode_ `\"\"\")`.\n",
    "+ Eine solche Registermaschine ist «Callable», kann also aufgerufen werden:      \n",
    "`rm(r0, r1, ... , rn)`.    \n",
    "Der Rückgabewert ist der Inhalt aller Register, die verwendet worden sind.\n",
    "+ Mit `rm.last_run()` wird ein Dataframe erstellt, das den gesamten Verlauf eines Runs anzeigt.      \n",
    "    + Mit dem Parameter `align_left=True` wird erzwungen, dass die Zellen linksbündig ausgerichtet sind im Display; allerdings ist das Resultat dann kein Dataframe mehr, sondern ein Style-Objekt.    \n",
    "    + Mit `align_left=False` wird ein Dataframe ausgegeben; Default ist `align_left=True`.\n",
    "+ Die Anzahl Schritte, die ausgeführt werden, ist defaultmäßig auf 1000 beschränkt. Diese Schranke kann (global) angepasst werden durch `Registermaschine.MAX_STEPS = ??`.\n",
    "      \n",
    "(Für diese Methode sollte Pandas installiert sein.) "
   ]
  },
  {
   "cell_type": "raw",
   "id": "09a94785-33d7-4932-ac63-6cfddc4f16b9",
   "metadata": {},
   "source": []
  },
  {
   "cell_type": "markdown",
   "id": "dbc8f4e7-8224-47c1-afc0-dfa7bae9b65e",
   "metadata": {},
   "source": [
    "### Feedback\n",
    "+ Fehler bitte melden an urs-martin.kuenzi@ffhs.ch"
   ]
  },
  {
   "cell_type": "markdown",
   "id": "16c0caa3-557a-4bf6-89f4-245f24e6b961",
   "metadata": {},
   "source": [
    "## Beispiele\n",
    "Beispiele aus dem Skript"
   ]
  },
  {
   "cell_type": "code",
   "execution_count": null,
   "id": "ef900915-b6e8-4b9d-a58b-310a7facf038",
   "metadata": {
    "tags": []
   },
   "outputs": [],
   "source": [
    "from Registermaschine import Registermaschine"
   ]
  },
  {
   "cell_type": "code",
   "execution_count": null,
   "id": "fb1af2e3-739a-45c3-ba16-9b3326962a78",
   "metadata": {},
   "outputs": [],
   "source": []
  },
  {
   "cell_type": "code",
   "execution_count": null,
   "id": "d42a0121-53fc-4f1e-95bd-f1e3b159374a",
   "metadata": {
    "tags": []
   },
   "outputs": [],
   "source": [
    "# Löschprogramm\n",
    "# Lösche Inhalt von Register 2\n",
    "# Alphabet Gamma beliebig\n",
    "loeschen_R2_src = \"\"\"\n",
    "st:  POP 2 :end st\n",
    "end: STOP\n",
    "\"\"\"\n",
    "loeschen_R2 = Registermaschine(loeschen_R2_src)\n",
    "loeschen_R2(\"a\", \"ab\", \"abac\")"
   ]
  },
  {
   "cell_type": "code",
   "execution_count": null,
   "id": "867c0e30-6596-48ac-81ec-6ae1bee84bdf",
   "metadata": {
    "tags": []
   },
   "outputs": [],
   "source": [
    "loeschen_R2.last_run()"
   ]
  },
  {
   "cell_type": "code",
   "execution_count": null,
   "id": "42f809cc-6810-40a5-85f3-6da5d7cc4b53",
   "metadata": {},
   "outputs": [],
   "source": []
  },
  {
   "cell_type": "code",
   "execution_count": null,
   "id": "b9e110c8-6fb7-45ce-9d78-040a6024e170",
   "metadata": {},
   "outputs": [],
   "source": [
    "# Spiegelprogramm\n",
    "# Der Wert des 1-ten Registers wird in das 0-te Register gespiegelt\n",
    "spiegeln_src = \"\"\"\n",
    "st:  POP  1  :end  a:m_a  b:m_b\n",
    "m_a: PUSH 0 a\n",
    "     GOTO st\n",
    "m_b: PUSH 0 b\n",
    "     GOTO st\n",
    "end: STOP\n",
    "\"\"\"\n",
    "spiegeln = Registermaschine(spiegeln_src)\n",
    "spiegeln(\"\", \"aabbb\")"
   ]
  },
  {
   "cell_type": "code",
   "execution_count": null,
   "id": "754cbfd1-5c03-4d40-846c-9c952a49aa25",
   "metadata": {},
   "outputs": [],
   "source": [
    "spiegeln.last_run()"
   ]
  },
  {
   "cell_type": "code",
   "execution_count": null,
   "id": "a04088b1-bf73-43fd-83de-7fec03c9d66d",
   "metadata": {},
   "outputs": [],
   "source": []
  },
  {
   "cell_type": "code",
   "execution_count": null,
   "id": "465f94c2-e6df-4055-892f-94f428dc0f41",
   "metadata": {
    "tags": []
   },
   "outputs": [],
   "source": [
    "# Kopierprogramm:\n",
    "# Der Wert des 1-ten Registers wird in das 0-te Register kopiert\n",
    "# Das 2-te Register wird als Hilfsregister verwendet\n",
    "# Gamma = {a, b}\n",
    "\n",
    "copy_src = \"\"\"\n",
    "start:   POP 1 :zurueck a:mv_a b:mv_b\n",
    "mv_a:    PUSH 2 a\n",
    "         GOTO start\n",
    "mv_b:    PUSH 2 b\n",
    "         GOTO start\n",
    "zurueck: POP 2 :end a:mv__a b:mv__b\n",
    "mv__a:   PUSH 0 a\n",
    "         PUSH 1 a\n",
    "         GOTO zurueck\n",
    "mv__b:   PUSH 0 b\n",
    "         PUSH 1 b\n",
    "         GOTO zurueck\n",
    "end:     STOP\n",
    "\"\"\"\n",
    "\n",
    "copy = Registermaschine(copy_src)\n",
    "copy(\"\", \"aaab\")"
   ]
  },
  {
   "cell_type": "code",
   "execution_count": null,
   "id": "6f47f9df-bb51-4aa4-bbc3-ac10a9b327bf",
   "metadata": {
    "tags": []
   },
   "outputs": [],
   "source": [
    "copy.last_run()"
   ]
  },
  {
   "cell_type": "code",
   "execution_count": null,
   "id": "0eace704-a1df-4b54-9fd2-48904d4bcc53",
   "metadata": {},
   "outputs": [],
   "source": []
  },
  {
   "cell_type": "code",
   "execution_count": null,
   "id": "c2fec0a7-d125-43d4-a3d6-8b69b46c3fc3",
   "metadata": {},
   "outputs": [],
   "source": [
    "# Kopierprogramm mit Subprogramm:\n",
    "# Der Wert des 1-ten Registers wird in das 0-te Register kopiert\n",
    "# Das 2-te Register wird als Hilfsregister verwendet\n",
    "# Gamma = {a, b}\n",
    "\n",
    "copy2_src = \"\"\"\n",
    "CALL spiegeln  1  2\n",
    "CALL spiegeln  2  0\n",
    "\n",
    "SUB spiegeln $ausgang $ziel \n",
    "start:   POP $ausgang :end a:mv_a b:mv_b\n",
    "mv_a:    PUSH $ziel a\n",
    "         GOTO start\n",
    "mv_b:    PUSH $ziel b\n",
    "         GOTO start\n",
    "end:     STOP\n",
    "\"\"\"\n",
    "\n",
    "copy2 = Registermaschine(copy2_src)\n",
    "copy2(\"\", \"aaab\")"
   ]
  },
  {
   "cell_type": "code",
   "execution_count": null,
   "id": "b5af7ab8-2bf9-4c90-b549-cd8420ecbfb0",
   "metadata": {},
   "outputs": [],
   "source": [
    "copy2.last_run()"
   ]
  },
  {
   "cell_type": "code",
   "execution_count": null,
   "id": "5baf3f02-ab1f-4b43-a7f4-0effba885455",
   "metadata": {},
   "outputs": [],
   "source": []
  },
  {
   "cell_type": "code",
   "execution_count": null,
   "id": "bf064d3f-9e92-4e79-8490-4b54fe4c5624",
   "metadata": {},
   "outputs": [],
   "source": [
    "# Programm zur Addition von 1 zu einer Binärzahl\n",
    "# Die Zahl steht bei der Eingabe im ersten Register\n",
    "# Das Resultat steht im 0-ten Register\n",
    "# Gamma = {0, 1}\n",
    "\n",
    "plus_1_src = \"\"\"\n",
    "# ue1: Zustand mit Übertrag 1\n",
    "# ue1: Zustand mit Übertrag 0\n",
    "ue1:      POP 1 :ue1_ 0:ue10 1:ue11\n",
    "ue0:      POP 1 :ue0_ 0:ue00 1:ue01\n",
    "ue0_:     GOTO spiegeln\n",
    "ue00:     PUSH 2 0\n",
    "          GOTO ue0\n",
    "ue01:     PUSH 2 1\n",
    "          GOTO ue0\n",
    "ue1_:     PUSH 2 1\n",
    "          GOTO spiegeln\n",
    "ue10:     PUSH 2 1\n",
    "          GOTO ue0\n",
    "ue11:     PUSH 2 0\n",
    "          GOTO ue1\n",
    "spiegeln: POP 2 :end 0:mv_0 1:mv_1\n",
    "mv_0:     PUSH 0 0\n",
    "          GOTO spiegeln\n",
    "mv_1:     PUSH 0 1\n",
    "          GOTO spiegeln\n",
    "end:      STOP\n",
    "\"\"\"\n",
    "\n",
    "plus_1 = Registermaschine(plus_1_src)\n",
    "print(plus_1(\"\", \"10011\"))\n",
    "print(plus_1(\"\", \"111\"))"
   ]
  },
  {
   "cell_type": "code",
   "execution_count": null,
   "id": "397cda47-c797-4dd1-890b-74ca78692eee",
   "metadata": {},
   "outputs": [],
   "source": []
  },
  {
   "cell_type": "code",
   "execution_count": null,
   "id": "aee45e3a-8eb1-4baa-9bbf-ca9a205bf5cd",
   "metadata": {},
   "outputs": [],
   "source": []
  }
 ],
 "metadata": {
  "kernelspec": {
   "display_name": "Python 3 (ipykernel)",
   "language": "python",
   "name": "python3"
  },
  "language_info": {
   "codemirror_mode": {
    "name": "ipython",
    "version": 3
   },
   "file_extension": ".py",
   "mimetype": "text/x-python",
   "name": "python",
   "nbconvert_exporter": "python",
   "pygments_lexer": "ipython3",
   "version": "3.11.7"
  }
 },
 "nbformat": 4,
 "nbformat_minor": 5
}
