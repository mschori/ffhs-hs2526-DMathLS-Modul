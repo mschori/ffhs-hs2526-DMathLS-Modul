{
 "cells": [
  {
   "cell_type": "markdown",
   "id": "b54d49fc-7f03-41db-aae8-ab350f907328",
   "metadata": {},
   "source": [
    "# Euklidisicher Algorithmus\n",
    "Der hier gezeigte Euklidische Algorithmus ist eine Alternative zum Algorithmus mit Rückwärtseinsetzung aus Weitz."
   ]
  },
  {
   "cell_type": "code",
   "id": "36de6f50-b437-4cd4-872e-8cf1438af48e",
   "metadata": {
    "ExecuteTime": {
     "end_time": "2025-07-30T19:31:28.295103Z",
     "start_time": "2025-07-30T19:31:28.037002Z"
    }
   },
   "source": [
    "import numpy as np\n",
    "import pandas as pd"
   ],
   "outputs": [],
   "execution_count": 3
  },
  {
   "cell_type": "code",
   "id": "59e47ba3-27cd-4cf0-ade5-da109790c031",
   "metadata": {
    "ExecuteTime": {
     "end_time": "2025-07-30T19:31:30.449465Z",
     "start_time": "2025-07-30T19:31:30.447020Z"
    }
   },
   "source": [
    "def erweiterter_euklidischer_algo(a0, a1):\n",
    "    \"\"\"\n",
    "    Berechnet ein DataFrame df mit den Spalten 'a', 'x', 'y'.\n",
    "    Die ersten beiden Zeilen sind\n",
    "    a   x  y\n",
    "    --------\n",
    "    a0  1  0\n",
    "    a1  0  1\n",
    "    für jede weitere Spalte gilt\n",
    "    ndf.iloc[i+2] ==  df.iloc[i] - q * df.iloc[i+1]  \n",
    "    wobei q = df.iloc[i, 0] // df.iloc[i+1, 0].\n",
    "    Die letze Zeile ist (ai, x, y), wobei\n",
    "    ai = ggT(a0, a1) = x * a0 + y * a1\n",
    "    \n",
    "    :param a0: Erstes Argument für ggT\n",
    "    :param a1: Zweites Argument für ggT\n",
    "    :returns: Ein Dataframe, das die Berchnung des ggT\n",
    "        mit dem erweiterten Euklidischen Algo zeigt.\n",
    "    \"\"\"\n",
    "    arr =  np.array(\n",
    "        [[a0, 1, 0], [a1, 0, 1]])\n",
    "    while True:\n",
    "        q = arr[-2, 0] // arr[-1, 0]\n",
    "        neue_zeile = arr[-2] - q * arr[-1]\n",
    "        if neue_zeile[0] == 0:\n",
    "            break\n",
    "        arr = np.vstack((arr, neue_zeile))\n",
    "    return pd.DataFrame(arr, columns = ['a', 'x', 'y'])"
   ],
   "outputs": [],
   "execution_count": 4
  },
  {
   "cell_type": "code",
   "id": "901baac7-7bf8-4bdd-a71a-0b1956976752",
   "metadata": {
    "ExecuteTime": {
     "end_time": "2025-07-30T19:31:34.413470Z",
     "start_time": "2025-07-30T19:31:34.400991Z"
    }
   },
   "source": [
    "erweiterter_euklidischer_algo(26, 20)"
   ],
   "outputs": [
    {
     "data": {
      "text/plain": [
       "    a  x  y\n",
       "0  26  1  0\n",
       "1  20  0  1\n",
       "2   6  1 -1\n",
       "3   2 -3  4"
      ],
      "text/html": [
       "<div>\n",
       "<style scoped>\n",
       "    .dataframe tbody tr th:only-of-type {\n",
       "        vertical-align: middle;\n",
       "    }\n",
       "\n",
       "    .dataframe tbody tr th {\n",
       "        vertical-align: top;\n",
       "    }\n",
       "\n",
       "    .dataframe thead th {\n",
       "        text-align: right;\n",
       "    }\n",
       "</style>\n",
       "<table border=\"1\" class=\"dataframe\">\n",
       "  <thead>\n",
       "    <tr style=\"text-align: right;\">\n",
       "      <th></th>\n",
       "      <th>a</th>\n",
       "      <th>x</th>\n",
       "      <th>y</th>\n",
       "    </tr>\n",
       "  </thead>\n",
       "  <tbody>\n",
       "    <tr>\n",
       "      <th>0</th>\n",
       "      <td>26</td>\n",
       "      <td>1</td>\n",
       "      <td>0</td>\n",
       "    </tr>\n",
       "    <tr>\n",
       "      <th>1</th>\n",
       "      <td>20</td>\n",
       "      <td>0</td>\n",
       "      <td>1</td>\n",
       "    </tr>\n",
       "    <tr>\n",
       "      <th>2</th>\n",
       "      <td>6</td>\n",
       "      <td>1</td>\n",
       "      <td>-1</td>\n",
       "    </tr>\n",
       "    <tr>\n",
       "      <th>3</th>\n",
       "      <td>2</td>\n",
       "      <td>-3</td>\n",
       "      <td>4</td>\n",
       "    </tr>\n",
       "  </tbody>\n",
       "</table>\n",
       "</div>"
      ]
     },
     "execution_count": 5,
     "metadata": {},
     "output_type": "execute_result"
    }
   ],
   "execution_count": 5
  },
  {
   "cell_type": "markdown",
   "id": "335a9cbb-1ab0-4343-be9e-919e679b6469",
   "metadata": {},
   "source": [
    "## Erläuterung der Berechnung:\n",
    "+ In der ersten Spalte stehen bei Berechnung des einfachen, nicht erweiterten Algorithmus:\n",
    "    + 26 und 20, sind vorgegeben\n",
    "    + 6 = 26 % 20\n",
    "    + 2 = 20 % 6\n",
    "    + Da 6 / 2 aufgeht, ist die Tabelle hier fertig\n",
    "+ Die ersten beiden Zeilen $z_0$ und $z_1$ sind\n",
    "    | a  | x | y |\n",
    "    |----|---|---|\n",
    "    | a0 | 0 | 1 |\n",
    "    | a1 | 1 | 0 |\n",
    "    \n",
    "    Dabei sind a1 und a2 die Zahlen, von denen der ggT berechnet werden sollte.\n",
    "+ Für jede weitere Zeile $z_{i+2}$ gilt:    \n",
    "  $z_{i+2} = z_{i} - q \\cdot z_{i+1}$,    \n",
    "  wobei $q = a_i[0] \\ // \\ a_{i+1}[0]$    \n",
    "  In der letzten Zeile steht der $ggT(a_0,a_1) = a_i$ sowie $x$ und $y$ mit\n",
    "  $a_i = x \\cdot a_0 + y \\cdot a_1$\n",
    "    \n",
    "  Also hier gilt $ggT(26, 6) = 2 = -3 \\cdot 26 + 4 \\cdot 20$"
   ]
  },
  {
   "cell_type": "markdown",
   "id": "de4c0b96-e187-44d6-96e3-dfd6e5e889e9",
   "metadata": {},
   "source": [
    "### Bemerkung zu Pandas\n",
    "pandas wurde nur verwendet, weil die Pandas-Tabellen in Jupyter-Notebooks schöner dargestellt werden. "
   ]
  },
  {
   "cell_type": "code",
   "execution_count": null,
   "id": "f69612dc-945d-4399-b578-39457db82db7",
   "metadata": {},
   "outputs": [],
   "source": []
  }
 ],
 "metadata": {
  "kernelspec": {
   "display_name": "Python 3 (ipykernel)",
   "language": "python",
   "name": "python3"
  },
  "language_info": {
   "codemirror_mode": {
    "name": "ipython",
    "version": 3
   },
   "file_extension": ".py",
   "mimetype": "text/x-python",
   "name": "python",
   "nbconvert_exporter": "python",
   "pygments_lexer": "ipython3",
   "version": "3.9.13"
  }
 },
 "nbformat": 4,
 "nbformat_minor": 5
}
